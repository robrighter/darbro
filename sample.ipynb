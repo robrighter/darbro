{
 "cells": [
  {
   "cell_type": "code",
   "execution_count": 1,
   "id": "initial_id",
   "metadata": {
    "collapsed": true,
    "ExecuteTime": {
     "end_time": "2024-02-05T20:15:10.099754Z",
     "start_time": "2024-02-05T20:15:09.830201Z"
    }
   },
   "outputs": [
    {
     "data": {
      "text/plain": "array([117.08469478,   4.33409201,  -2.85684794,  -2.18606025])"
     },
     "execution_count": 1,
     "metadata": {},
     "output_type": "execute_result"
    }
   ],
   "source": [
    "from darbro import Darbro\n",
    "\n",
    "darbro = Darbro(Darbro.read_csv('bodyfat.csv', 'bodyfat', ['triceps', 'thigh', 'midarm']))\n",
    "#prediction = darbro.predict(np.array([value_X1, value_X2, value_X3]))\n",
    "darbro.calculate_analytical_information()\n",
    "darbro.coefficients\n",
    "\n",
    "\n"
   ]
  },
  {
   "cell_type": "code",
   "execution_count": 2,
   "outputs": [
    {
     "data": {
      "text/plain": "6.150305510472838"
     },
     "execution_count": 2,
     "metadata": {},
     "output_type": "execute_result"
    }
   ],
   "source": [
    "darbro.mse"
   ],
   "metadata": {
    "collapsed": false,
    "ExecuteTime": {
     "end_time": "2024-02-05T20:15:10.114005Z",
     "start_time": "2024-02-05T20:15:10.106315Z"
    }
   },
   "id": "b5824a4ab0ac5557"
  },
  {
   "cell_type": "code",
   "execution_count": 3,
   "outputs": [
    {
     "data": {
      "text/plain": "98.4048881675654"
     },
     "execution_count": 3,
     "metadata": {},
     "output_type": "execute_result"
    }
   ],
   "source": [
    "darbro.sse"
   ],
   "metadata": {
    "collapsed": false,
    "ExecuteTime": {
     "end_time": "2024-02-05T20:15:10.122890Z",
     "start_time": "2024-02-05T20:15:10.114315Z"
    }
   },
   "id": "dd362f408076b282"
  }
 ],
 "metadata": {
  "kernelspec": {
   "display_name": "Python 3",
   "language": "python",
   "name": "python3"
  },
  "language_info": {
   "codemirror_mode": {
    "name": "ipython",
    "version": 2
   },
   "file_extension": ".py",
   "mimetype": "text/x-python",
   "name": "python",
   "nbconvert_exporter": "python",
   "pygments_lexer": "ipython2",
   "version": "2.7.6"
  }
 },
 "nbformat": 4,
 "nbformat_minor": 5
}
